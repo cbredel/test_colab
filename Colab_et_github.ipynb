{
  "nbformat": 4,
  "nbformat_minor": 0,
  "metadata": {
    "colab": {
      "name": "Colab et github.ipynb",
      "provenance": [],
      "collapsed_sections": [],
      "authorship_tag": "ABX9TyNsqkvbHaa6KNMV13rryKYN",
      "include_colab_link": true
    },
    "kernelspec": {
      "name": "python3",
      "display_name": "Python 3"
    },
    "language_info": {
      "name": "python"
    }
  },
  "cells": [
    {
      "cell_type": "markdown",
      "metadata": {
        "id": "view-in-github",
        "colab_type": "text"
      },
      "source": [
        "<a href=\"https://colab.research.google.com/github/cbredel/test_colab/blob/main/Colab_et_github.ipynb\" target=\"_parent\"><img src=\"https://colab.research.google.com/assets/colab-badge.svg\" alt=\"Open In Colab\"/></a>"
      ]
    },
    {
      "cell_type": "markdown",
      "source": [
        "Test de colab en lien avec Github"
      ],
      "metadata": {
        "id": "_ic7Pou6jyRH"
      }
    },
    {
      "cell_type": "code",
      "execution_count": 1,
      "metadata": {
        "colab": {
          "base_uri": "https://localhost:8080/"
        },
        "id": "ukfjTifSjd4K",
        "outputId": "e06c2116-69ff-4f50-df0a-8c163ac04203"
      },
      "outputs": [
        {
          "output_type": "stream",
          "name": "stdout",
          "text": [
            "Ouais\n",
            "Ouais\n",
            "Ouais\n",
            "Ouais\n",
            "Ouais\n",
            "Ouais\n",
            "Ouais\n",
            "Ouais\n",
            "Ouais\n",
            "Ouais\n"
          ]
        }
      ],
      "source": [
        "for i in range(10):\n",
        "  print(\"Ouais\")\n",
        "  "
      ]
    }
  ]
}